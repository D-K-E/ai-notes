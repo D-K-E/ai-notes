{
 "cells": [
  {
   "cell_type": "markdown",
   "id": "c4d87c4a-4cae-4d89-b81e-a9bf0cbc9827",
   "metadata": {},
   "source": [
    "## Sets, relations, functions by Düntsch, I. and Gediga, G\n"
   ]
  },
  {
   "cell_type": "markdown",
   "id": "d0de5880-cfc8-4cf4-a2d9-22ef67970fc4",
   "metadata": {},
   "source": [
    "A set is determined by the property P of its elements. \n",
    "This is formally written as $ \\{ x : P(x) \\}$.\n",
    "P is also called **predicate**.\n",
    "To avoid logical difficulties we assume that the members belong to a previously well defined set.\n",
    "So a full description for the a set S would be $S = \\{ s \\in M: P(s) \\}$.\n",
    "\n",
    "A subset of a set is denoted by the operator $\\subset$.\n",
    "It can be formally defined as $ A \\subset B = \\{ x \\in B : \\forall x \\in A \\}$.\n",
    "Basically all members of set $A$ is a member of set B. \n",
    "Thus the empty set is a subset of all sets, and all sets are a subset of itself.\n",
    "\n",
    "The **power set** of a set A is the set of all the subsets of A.\n",
    "\n",
    "Two sets A, B are considered equal if $A \\subset B$ and $B \\subset A$.\n"
   ]
  },
  {
   "cell_type": "code",
   "execution_count": 1,
   "id": "f7348d37-e0ba-45e2-9100-96d2c7eed2d0",
   "metadata": {},
   "outputs": [],
   "source": [
    "def prime_test():\n",
    "    \"\"\"\n",
    "    Testing Euclid's proof on prime numbers\n",
    "    being infinite\n",
    "    \"\"\"\n",
    "    primes = [1,2,3,5]\n",
    "    q = 1\n",
    "    for p in primes:\n",
    "        q *= p\n",
    "    nq = q + 1\n",
    "    for p in primes:\n",
    "        if nq % p == 0:\n",
    "            if p != 1:\n",
    "                print(\"prime proof fail\")\n",
    "            \n",
    "prime_test()"
   ]
  },
  {
   "cell_type": "code",
   "execution_count": 2,
   "id": "91b5118c-a4bd-491c-8b38-e50dc0df4bb5",
   "metadata": {},
   "outputs": [
    {
     "name": "stdout",
     "output_type": "stream",
     "text": [
      "True\n",
      "True\n"
     ]
    }
   ],
   "source": [
    "def demorgan_test():\n",
    "    \"\"\"\n",
    "    De morgan rule says that\n",
    "    U \\ (A \\cup B) = (U \\ A) \\cap (U \\ B)\n",
    "    U \\ (A \\cap B) = (U \\ A) \\cup (U \\ B)\n",
    "    \n",
    "    −(A ∪ B) = −A ∪ −B, −(A ∩ B) = −A ∪ −B\n",
    "    \"\"\"\n",
    "    U = set([i for i in range(10)])\n",
    "    A = set([i for i in range(3, 7)])\n",
    "    B = set([i for i in range(5, 9)])\n",
    "    AcupB = A.union(B)\n",
    "    UdiffAcupB = U - AcupB  # −(A ∪ B)\n",
    "    UdiffAcapB = U - (A.intersection(B))  # −(A ∩ B)\n",
    "    UdiffA = U - A\n",
    "    UdiffB = U - B\n",
    "    UdiffAcupUdiffB = UdiffA.union(UdiffB) # −A ∪ −B\n",
    "    print(UdiffAcupB == UdiffA.intersection(UdiffB))\n",
    "    print(UdiffAcapB == UdiffAcupUdiffB)\n",
    "\n",
    "demorgan_test()"
   ]
  },
  {
   "cell_type": "markdown",
   "id": "9515f1eb-4fd6-4435-a92f-63d748fa0ee9",
   "metadata": {},
   "source": [
    "p. 18"
   ]
  },
  {
   "cell_type": "code",
   "execution_count": 3,
   "id": "d70089d3-8b7a-48ed-8ad9-68ceff4fdc56",
   "metadata": {},
   "outputs": [],
   "source": [
    "def element_table(x, A: set, B: set) -> dict:\n",
    "    \"\"\n",
    "    table_values = [x in A, x in B, \n",
    "                    x in (A.union(B)),\n",
    "                   x in (A.intersection(B))]\n",
    "    element_state = {\n",
    "        \"x\": x,\n",
    "        \"x ∈ A\": int(table_values[0]),\n",
    "        \"x ∈ B\": int(table_values[1]),\n",
    "        \"x ∈ (A ∪ B)\": int(table_values[2]),\n",
    "        \"x ∈ (A ∩ B)\": int(table_values[3])\n",
    "    }\n",
    "    print(element_state)\n",
    "    return element_state"
   ]
  },
  {
   "cell_type": "code",
   "execution_count": 4,
   "id": "6f06502b-49a0-4a12-b30a-4bcdcffd3ada",
   "metadata": {},
   "outputs": [
    {
     "name": "stdout",
     "output_type": "stream",
     "text": [
      "{'x': 45646, 'x ∈ A': 0, 'x ∈ B': 0, 'x ∈ (A ∪ B)': 0, 'x ∈ (A ∩ B)': 0}\n",
      "{'x': 6, 'x ∈ A': 1, 'x ∈ B': 1, 'x ∈ (A ∪ B)': 1, 'x ∈ (A ∩ B)': 1}\n",
      "{'x': 3, 'x ∈ A': 1, 'x ∈ B': 0, 'x ∈ (A ∪ B)': 1, 'x ∈ (A ∩ B)': 0}\n",
      "{'x': 8, 'x ∈ A': 0, 'x ∈ B': 1, 'x ∈ (A ∪ B)': 1, 'x ∈ (A ∩ B)': 0}\n"
     ]
    }
   ],
   "source": [
    "A = set([i for i in range(3, 7)])\n",
    "B = set([i for i in range(5, 9)])\n",
    "x = 45646\n",
    "element_table(x, A, B)\n",
    "x = 6\n",
    "element_table(x, A, B)\n",
    "x = 3\n",
    "element_table(x, A, B)\n",
    "x = 8\n",
    "state = element_table(x, A, B)"
   ]
  },
  {
   "cell_type": "code",
   "execution_count": 5,
   "id": "8a7bc477-0674-4d16-8f77-555199214cc1",
   "metadata": {},
   "outputs": [
    {
     "data": {
      "text/plain": [
       "True"
      ]
     },
     "execution_count": 5,
     "metadata": {},
     "output_type": "execute_result"
    }
   ],
   "source": [
    "def test_absorption_law(A: set, B: set):\n",
    "    \"\"\"\n",
    "    A ∪ (A ∩ B) = A, A ∩ (A ∪ B) = A\n",
    "    \"\"\"\n",
    "    left = A.union(A.intersection(B))\n",
    "    right = A.intersection(A.union(B))\n",
    "    return all([left == right, left == A, right == A]) \n",
    "\n",
    "test_absorption_law(A, B)"
   ]
  },
  {
   "cell_type": "code",
   "execution_count": 6,
   "id": "fa7206af-2f77-4a54-b51b-9cca78d1b7ea",
   "metadata": {},
   "outputs": [
    {
     "data": {
      "text/plain": [
       "True"
      ]
     },
     "execution_count": 6,
     "metadata": {},
     "output_type": "execute_result"
    }
   ],
   "source": [
    "def test_distribution_law(A: set, B: set, C: set):\n",
    "    \"\"\"\n",
    "    A ∩ (B ∪ C) = (A ∩ B) ∪ (A ∩ C), A ∪ (B ∩ C) = (A ∪ B) ∩ (A ∪ C)\n",
    "    \"\"\"\n",
    "    right = A.intersection(B.union(C)) == (A.intersection(B)).union(A.intersection(C))\n",
    "    left = A.union(B.intersection(C)) == (A.union(B)).intersection(A.union(C))\n",
    "    return all([right, left])\n",
    "\n",
    "C = list(range(8, 16))\n",
    "test_distribution_law(A, B, C)"
   ]
  },
  {
   "cell_type": "code",
   "execution_count": 7,
   "id": "31725839-4bfd-4b8e-9fbf-6ec4617c1fa1",
   "metadata": {},
   "outputs": [],
   "source": [
    "from typing import Callable, List, Tuple\n",
    "import pprint\n",
    "\n",
    "def get_element_state(x, A: set, B: set, \n",
    "                      rules: List[Tuple[str, Callable[[object, set, set], bool]]]) -> dict:\n",
    "    \"\"\n",
    "    table_values = [rule(x, A, B) for name, rule in rules]\n",
    "    element_state = {}\n",
    "    for i in range(len(rules)):\n",
    "        result = table_values[i]\n",
    "        rule_name = rules[i][0]\n",
    "        element_state[rule_name] = result\n",
    "    \n",
    "    return element_state\n",
    "\n",
    "\n",
    "def get_equivalent_rules(xs: list, A: set, B: set, \n",
    "                        rules: List[Tuple[str, Callable[[object, set, set], bool]]]) -> dict:\n",
    "    \"\"\"\n",
    "    p. 19 table 1,\n",
    "    two sets are considered equal if they have equivalent columns in the state table.\n",
    "    \"\"\"\n",
    "    #rule_states = [get_element_state(x, A, B, rules) for x in xs]\n",
    "    rule_states = {r: [] for r, _ in rules}\n",
    "    for x in xs:\n",
    "        xstate = get_element_state(x, A, B, rules)\n",
    "        for rule_name, xresult in xstate.items():\n",
    "            rule_states[rule_name].append(xresult)\n",
    "\n",
    "    equivalent_rules = {}\n",
    "    for rule_name, result1 in rule_states.copy().items():        \n",
    "        for rname, result2 in rule_states.items():\n",
    "            if result2 == result1:\n",
    "                if rule_name not in equivalent_rules:\n",
    "                    equivalent_rules[rule_name] = []\n",
    "                equivalent_rules[rule_name].append(rname)\n",
    "                \n",
    "    print(\"Equivalent rules\")\n",
    "    pprint.pprint(equivalent_rules)\n",
    "    return equivalent_rules"
   ]
  },
  {
   "cell_type": "code",
   "execution_count": 8,
   "id": "d00d41a9-d1b2-4c01-ab50-2b80560bf4c0",
   "metadata": {},
   "outputs": [
    {
     "name": "stdout",
     "output_type": "stream",
     "text": [
      "Equivalent rules\n",
      "{'x in A': ['x in A'],\n",
      " 'x in A ∩ B': ['x in A ∩ B'],\n",
      " 'x in A ∪ B': ['x in A ∪ B'],\n",
      " 'x in B': ['x in B'],\n",
      " 'x in ~(A ∪ B)': ['x in ~(A ∪ B)', 'x in ~A ∩ ~B'],\n",
      " 'x in ~A': ['x in ~A'],\n",
      " 'x in ~A ∩ ~B': ['x in ~(A ∪ B)', 'x in ~A ∩ ~B'],\n",
      " 'x in ~B': ['x in ~B']}\n"
     ]
    }
   ],
   "source": [
    "A = set(list(range(0, 6)))\n",
    "B = set(list(range(4, 11)))\n",
    "U = set(list(range(20)))\n",
    "x1 = 5\n",
    "x2 = 2\n",
    "x3 = 8\n",
    "x4 = 13\n",
    "xs = [x1, x2, x3, x4]\n",
    "\n",
    "rules = [\n",
    "    (\"x in A\", lambda x, As, Bs: x in As),\n",
    "    (\"x in B\", lambda x, As, Bs: x in Bs),\n",
    "    (\"x in A ∪ B\", lambda x, As, Bs: x in (As.union(Bs))),\n",
    "    (\"x in A ∩ B\", lambda x, As, Bs: x in (As.intersection(Bs))),\n",
    "    (\"x in ~A\", lambda x, As, Bs: x in (U.difference(As))),\n",
    "    (\"x in ~B\", lambda x, As, Bs: x in (U.difference(Bs))),\n",
    "    (\"x in ~(A ∪ B)\", lambda x, As, Bs: x in (U.difference(As.union(Bs)))),\n",
    "    (\"x in ~A ∩ ~B\", lambda x, As, Bs: x in (U.difference(As).intersection(U.difference(Bs)))),\n",
    "]\n",
    "eqs = get_equivalent_rules(xs, A, B, rules)"
   ]
  },
  {
   "cell_type": "markdown",
   "id": "51c5a299-b31e-486f-85ec-e2749bfba59b",
   "metadata": {},
   "source": [
    "### Relations"
   ]
  },
  {
   "cell_type": "markdown",
   "id": "6259caff-5ad0-44a6-a8df-5ead30581438",
   "metadata": {},
   "source": [
    "A set **A** is defined as:\n",
    "\n",
    "- **singleton** if $A = \\{ x \\} $ where $x$ is a member of a well defined set.\n",
    "- **unordered pair** if $A = \\{ x, y \\}$ where $x$ and $y$ are members of a well defined set and $A$ has exactly two elements.\n",
    "- **ordered pair** if $A = \\{\\{x\\}, \\{x, y\\} \\}$ where $x$ and $y$ are members of a well defined set and $A$ has exactly two elements.\n",
    "\n",
    "For an ordered pair $\\langle x,y \\rangle$ the following equality relation can be defined:\n",
    "- An ordered pair $\\langle x,y \\rangle$ is equal to an ordered pair $\\langle a,b \\rangle$, if and only if $x = a$ and $y = b$."
   ]
  },
  {
   "cell_type": "code",
   "execution_count": 58,
   "id": "4365d134-7f94-46a4-a7b4-055342a322aa",
   "metadata": {},
   "outputs": [],
   "source": [
    "class OrderedPair:\n",
    "    def __init__(self, a, b):\n",
    "        \"\"\n",
    "        self.paired = a\n",
    "        self.second = frozenset([a, b])\n",
    "        self.pairing = b\n",
    "        \n",
    "    def to_set(self): return frozenset([self.paired, self.second])\n",
    "\n",
    "    def __eq__(self, other):\n",
    "        if not isinstance(other, OrderedPair):\n",
    "            return False\n",
    "        return self.paired == other.paired and self.second == other.second\n",
    "    \n",
    "    def __str__(self):\n",
    "        return str(self.to_set())\n",
    "    \n",
    "    def __hash__(self):\n",
    "        return hash(self.to_set())\n",
    "\n",
    "\n",
    "def cartesian_product(A: set, B: set):\n",
    "    \"\"\"\n",
    "    cartesian product is defined as $A x B = \\{ \\langle a,b \\rangle a \\in A, b \\in B \\}$\n",
    "    \"\"\"\n",
    "    product = set([])\n",
    "    for a in A:\n",
    "        for b in B:\n",
    "            product.add(OrderedPair(a, b))\n",
    "    #\n",
    "    return product"
   ]
  },
  {
   "cell_type": "code",
   "execution_count": 59,
   "id": "32c67709-d9dc-450c-9af0-67db79698164",
   "metadata": {},
   "outputs": [],
   "source": [
    "def test_cartesian_product():\n",
    "    \"\"\n",
    "    A = set(range(0, 5))\n",
    "    B = set(range(3, 8))\n",
    "    AandB = []\n",
    "    for a in A:\n",
    "        for b in B:\n",
    "            AandB.append((a, b))\n",
    "    AxB = cartesian_product(A, B)\n",
    "    AndB = frozenset([OrderedPair(a,b) for a, b in AandB])\n",
    "    return AxB == AndB"
   ]
  },
  {
   "cell_type": "code",
   "execution_count": 60,
   "id": "62e217d2-16a4-4953-b699-7e5fa7f4710b",
   "metadata": {},
   "outputs": [
    {
     "data": {
      "text/plain": [
       "True"
      ]
     },
     "execution_count": 60,
     "metadata": {},
     "output_type": "execute_result"
    }
   ],
   "source": [
    "test_cartesian_product()"
   ]
  },
  {
   "cell_type": "code",
   "execution_count": 61,
   "id": "4a0895f1-021d-43ae-821e-75acf9f3a2af",
   "metadata": {},
   "outputs": [],
   "source": [
    "def relation_R_on_A(A: set):\n",
    "    def R_cond(x, y):\n",
    "        return x in A and y in A and (x % y == 0)\n",
    "    R = set([])\n",
    "    for a in A:\n",
    "        for b in A:\n",
    "            if R_cond(a, b):\n",
    "                pair = OrderedPair(a, b)\n",
    "                R.add(pair)\n",
    "    return R"
   ]
  },
  {
   "cell_type": "code",
   "execution_count": 62,
   "id": "f149ba1f-de0a-40a0-ae17-864c4ce94509",
   "metadata": {},
   "outputs": [
    {
     "data": {
      "text/plain": [
       "True"
      ]
     },
     "execution_count": 62,
     "metadata": {},
     "output_type": "execute_result"
    }
   ],
   "source": [
    "def test_relation_R_on_A():\n",
    "    A = frozenset([2,4,6,8])\n",
    "    AxA = cartesian_product(A, A)\n",
    "    R = relation_R_on_A(A)\n",
    "    return R.issubset(AxA)\n",
    "\n",
    "test_relation_R_on_A()"
   ]
  },
  {
   "cell_type": "code",
   "execution_count": 63,
   "id": "5012ba56-bfe2-4701-9c9b-8a83a8b44219",
   "metadata": {},
   "outputs": [],
   "source": [
    "def relation_domain(relation, A: set):\n",
    "    \"$dom(A) = \\{x \\in A : \\langle x, y \\rangle \\in R\\}$ where $R$ is a relation on $A$\"\n",
    "    return frozenset([r.paired for r in relation(A)])\n",
    "\n",
    "def relation_range(relation, A: set):\n",
    "    \"$ran(A) = \\{y \\in A : \\langle x, y \\rangle \\in R\\}$ where $R$ is a relation on $A$\"\n",
    "    r_range = set()\n",
    "    for r in relation(A):\n",
    "        rs = r.pairing\n",
    "        r_range.add(rs)\n",
    "    return frozenset(r_range)\n",
    "\n",
    "def relation_field(relation, A: set):\n",
    "    \"$ran(A) \\Cup dom(A)\"\n",
    "    domr = set(relation_domain(relation, A))\n",
    "    ranr = relation_range(relation, A)\n",
    "    return frozenset(domr.union(ranr))"
   ]
  },
  {
   "cell_type": "code",
   "execution_count": 64,
   "id": "3156687c-7182-47c2-85b2-8684b1635d77",
   "metadata": {},
   "outputs": [
    {
     "name": "stdout",
     "output_type": "stream",
     "text": [
      "True\n",
      "True\n",
      "True\n",
      "True\n",
      "True\n"
     ]
    },
    {
     "data": {
      "text/plain": [
       "(frozenset({<__main__.OrderedPair at 0x7f97c34e1950>,\n",
       "            <__main__.OrderedPair at 0x7f97c34e1890>,\n",
       "            <__main__.OrderedPair at 0x7f97c34e1f90>,\n",
       "            <__main__.OrderedPair at 0x7f97c34e1410>,\n",
       "            <__main__.OrderedPair at 0x7f97c34e1850>}),\n",
       " {'a', 'b', 'c', 'd', 'e'},\n",
       " frozenset({'a', 'c', 'd'}),\n",
       " frozenset({'a', 'b', 'c'}),\n",
       " frozenset({'a', 'b', 'c', 'd'}))"
      ]
     },
     "execution_count": 64,
     "metadata": {},
     "output_type": "execute_result"
    }
   ],
   "source": [
    "def test_domain_range_field():\n",
    "    \"\"\n",
    "    A = set([\"a\", \"b\", \"c\", \"d\", \"e\"])\n",
    "    R = frozenset([\n",
    "        OrderedPair(\"a\", \"a\"),\n",
    "        OrderedPair(\"a\", \"c\"),\n",
    "        OrderedPair(\"c\", \"a\"),\n",
    "        OrderedPair(\"d\", \"b\"),\n",
    "        OrderedPair(\"d\", \"c\")\n",
    "    ])\n",
    "    \n",
    "    def R_fn(arg: set):\n",
    "        return R\n",
    "    domr = relation_domain(relation=R_fn, A=A)\n",
    "    ranr = relation_range(relation=R_fn, A=A)\n",
    "    fldr = relation_field(relation=R_fn, A=A)\n",
    "    print(domr.issubset(A))\n",
    "    print(ranr.issubset(A))\n",
    "    print(fldr.issubset(A))\n",
    "    print(domr.issubset(fldr))\n",
    "    print(ranr.issubset(fldr))\n",
    "    return R, A, domr, ranr, fldr\n",
    "\n",
    "test_domain_range_field()"
   ]
  },
  {
   "cell_type": "code",
   "execution_count": 65,
   "id": "ee0a57ee-f273-47d5-8edd-8e6d40aa3444",
   "metadata": {},
   "outputs": [],
   "source": [
    "def relation_converse(relation, A: set):\n",
    "    \"$con(R) = \\{ \\langle y, x \\rangle : \\langle x, y \\rangle \\in R \\}$ where $R$ is a relation on $A$\"\n",
    "    con_R = set()\n",
    "    for pair in relation(A):\n",
    "        a = pair.paired\n",
    "        b = pair.pairing\n",
    "        con_R.add(OrderedPair(b, a))\n",
    "    return con_R"
   ]
  },
  {
   "cell_type": "code",
   "execution_count": null,
   "id": "0affd49a-2794-4ecf-8a96-3688a301eecf",
   "metadata": {},
   "outputs": [],
   "source": []
  }
 ],
 "metadata": {
  "kernelspec": {
   "display_name": "Python 3 (ipykernel)",
   "language": "python",
   "name": "python3"
  },
  "language_info": {
   "codemirror_mode": {
    "name": "ipython",
    "version": 3
   },
   "file_extension": ".py",
   "mimetype": "text/x-python",
   "name": "python",
   "nbconvert_exporter": "python",
   "pygments_lexer": "ipython3",
   "version": "3.7.13"
  }
 },
 "nbformat": 4,
 "nbformat_minor": 5
}
