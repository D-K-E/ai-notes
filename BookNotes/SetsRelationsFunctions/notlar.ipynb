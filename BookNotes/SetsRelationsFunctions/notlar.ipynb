{
 "cells": [
  {
   "cell_type": "markdown",
   "id": "c4d87c4a-4cae-4d89-b81e-a9bf0cbc9827",
   "metadata": {},
   "source": [
    "## Sets, relations, functions by Düntsch, I. and Gediga, G\n"
   ]
  },
  {
   "cell_type": "markdown",
   "id": "d0de5880-cfc8-4cf4-a2d9-22ef67970fc4",
   "metadata": {},
   "source": [
    "A set is determined by the property P of its elements. \n",
    "This is formally written as $ \\{ x : P(x) \\}$.\n",
    "P is also called **predicate**.\n",
    "To avoid logical difficulties we assume that the members belong to a previously well defined set.\n",
    "So a full description for the a set S would be $S = \\{ s \\in M: P(s) \\}$.\n",
    "\n",
    "A subset of a set is denoted by the operator $\\subset$.\n",
    "It can be formally defined as $ A \\subset B = \\{ x \\in B : \\forall x \\in A \\}$.\n",
    "Basically all members of set $A$ is a member of set B. \n",
    "Thus the empty set is a subset of all sets, and all sets are a subset of itself.\n",
    "\n",
    "The **power set** of a set A is the set of all the subsets of A.\n",
    "\n",
    "Two sets A, B are considered equal if $A \\subset B$ and $B \\subset A$.\n"
   ]
  },
  {
   "cell_type": "code",
   "execution_count": 1,
   "id": "f7348d37-e0ba-45e2-9100-96d2c7eed2d0",
   "metadata": {},
   "outputs": [],
   "source": [
    "def prime_test():\n",
    "    \"\"\"\n",
    "    Testing Euclid's proof on prime numbers\n",
    "    being infinite\n",
    "    \"\"\"\n",
    "    primes = [1,2,3,5]\n",
    "    q = 1\n",
    "    for p in primes:\n",
    "        q *= p\n",
    "    nq = q + 1\n",
    "    for p in primes:\n",
    "        if nq % p == 0:\n",
    "            if p != 1:\n",
    "                print(\"prime proof fail\")\n",
    "            \n",
    "prime_test()"
   ]
  },
  {
   "cell_type": "code",
   "execution_count": 2,
   "id": "91b5118c-a4bd-491c-8b38-e50dc0df4bb5",
   "metadata": {},
   "outputs": [
    {
     "name": "stdout",
     "output_type": "stream",
     "text": [
      "True\n",
      "True\n"
     ]
    }
   ],
   "source": [
    "def demorgan_test():\n",
    "    \"\"\"\n",
    "    De morgan rule says that\n",
    "    U \\ (A \\cup B) = (U \\ A) \\cap (U \\ B)\n",
    "    U \\ (A \\cap B) = (U \\ A) \\cup (U \\ B)\n",
    "    \n",
    "    −(A ∪ B) = −A ∪ −B, −(A ∩ B) = −A ∪ −B\n",
    "    \"\"\"\n",
    "    U = set([i for i in range(10)])\n",
    "    A = set([i for i in range(3, 7)])\n",
    "    B = set([i for i in range(5, 9)])\n",
    "    AcupB = A.union(B)\n",
    "    UdiffAcupB = U - AcupB  # −(A ∪ B)\n",
    "    UdiffAcapB = U - (A.intersection(B))  # −(A ∩ B)\n",
    "    UdiffA = U - A\n",
    "    UdiffB = U - B\n",
    "    UdiffAcupUdiffB = UdiffA.union(UdiffB) # −A ∪ −B\n",
    "    print(UdiffAcupB == UdiffA.intersection(UdiffB))\n",
    "    print(UdiffAcapB == UdiffAcupUdiffB)\n",
    "\n",
    "demorgan_test()"
   ]
  },
  {
   "cell_type": "markdown",
   "id": "9515f1eb-4fd6-4435-a92f-63d748fa0ee9",
   "metadata": {},
   "source": [
    "p. 18"
   ]
  },
  {
   "cell_type": "code",
   "execution_count": 3,
   "id": "d70089d3-8b7a-48ed-8ad9-68ceff4fdc56",
   "metadata": {},
   "outputs": [],
   "source": [
    "def element_table(x, A: set, B: set) -> dict:\n",
    "    \"\"\n",
    "    table_values = [x in A, x in B, \n",
    "                    x in (A.union(B)),\n",
    "                   x in (A.intersection(B))]\n",
    "    element_state = {\n",
    "        \"x\": x,\n",
    "        \"x ∈ A\": int(table_values[0]),\n",
    "        \"x ∈ B\": int(table_values[1]),\n",
    "        \"x ∈ (A ∪ B)\": int(table_values[2]),\n",
    "        \"x ∈ (A ∩ B)\": int(table_values[3])\n",
    "    }\n",
    "    print(element_state)\n",
    "    return element_state"
   ]
  },
  {
   "cell_type": "code",
   "execution_count": 4,
   "id": "6f06502b-49a0-4a12-b30a-4bcdcffd3ada",
   "metadata": {},
   "outputs": [
    {
     "name": "stdout",
     "output_type": "stream",
     "text": [
      "{'x': 45646, 'x ∈ A': 0, 'x ∈ B': 0, 'x ∈ (A ∪ B)': 0, 'x ∈ (A ∩ B)': 0}\n",
      "{'x': 6, 'x ∈ A': 1, 'x ∈ B': 1, 'x ∈ (A ∪ B)': 1, 'x ∈ (A ∩ B)': 1}\n",
      "{'x': 3, 'x ∈ A': 1, 'x ∈ B': 0, 'x ∈ (A ∪ B)': 1, 'x ∈ (A ∩ B)': 0}\n",
      "{'x': 8, 'x ∈ A': 0, 'x ∈ B': 1, 'x ∈ (A ∪ B)': 1, 'x ∈ (A ∩ B)': 0}\n"
     ]
    }
   ],
   "source": [
    "A = set([i for i in range(3, 7)])\n",
    "B = set([i for i in range(5, 9)])\n",
    "x = 45646\n",
    "element_table(x, A, B)\n",
    "x = 6\n",
    "element_table(x, A, B)\n",
    "x = 3\n",
    "element_table(x, A, B)\n",
    "x = 8\n",
    "state = element_table(x, A, B)"
   ]
  },
  {
   "cell_type": "code",
   "execution_count": 5,
   "id": "8a7bc477-0674-4d16-8f77-555199214cc1",
   "metadata": {},
   "outputs": [
    {
     "data": {
      "text/plain": [
       "True"
      ]
     },
     "execution_count": 5,
     "metadata": {},
     "output_type": "execute_result"
    }
   ],
   "source": [
    "def test_absorption_law(A: set, B: set):\n",
    "    \"\"\"\n",
    "    A ∪ (A ∩ B) = A, A ∩ (A ∪ B) = A\n",
    "    \"\"\"\n",
    "    left = A.union(A.intersection(B))\n",
    "    right = A.intersection(A.union(B))\n",
    "    return all([left == right, left == A, right == A]) \n",
    "\n",
    "test_absorption_law(A, B)"
   ]
  },
  {
   "cell_type": "code",
   "execution_count": 6,
   "id": "fa7206af-2f77-4a54-b51b-9cca78d1b7ea",
   "metadata": {},
   "outputs": [
    {
     "data": {
      "text/plain": [
       "True"
      ]
     },
     "execution_count": 6,
     "metadata": {},
     "output_type": "execute_result"
    }
   ],
   "source": [
    "def test_distribution_law(A: set, B: set, C: set):\n",
    "    \"\"\"\n",
    "    A ∩ (B ∪ C) = (A ∩ B) ∪ (A ∩ C), A ∪ (B ∩ C) = (A ∪ B) ∩ (A ∪ C)\n",
    "    \"\"\"\n",
    "    right = A.intersection(B.union(C)) == (A.intersection(B)).union(A.intersection(C))\n",
    "    left = A.union(B.intersection(C)) == (A.union(B)).intersection(A.union(C))\n",
    "    return all([right, left])\n",
    "\n",
    "C = list(range(8, 16))\n",
    "test_distribution_law(A, B, C)"
   ]
  },
  {
   "cell_type": "code",
   "execution_count": 7,
   "id": "31725839-4bfd-4b8e-9fbf-6ec4617c1fa1",
   "metadata": {},
   "outputs": [],
   "source": [
    "from typing import Callable, List, Tuple\n",
    "import pprint\n",
    "\n",
    "def get_element_state(x, A: set, B: set, \n",
    "                      rules: List[Tuple[str, Callable[[object, set, set], bool]]]) -> dict:\n",
    "    \"\"\n",
    "    table_values = [rule(x, A, B) for name, rule in rules]\n",
    "    element_state = {}\n",
    "    for i in range(len(rules)):\n",
    "        result = table_values[i]\n",
    "        rule_name = rules[i][0]\n",
    "        element_state[rule_name] = result\n",
    "    \n",
    "    return element_state\n",
    "\n",
    "\n",
    "def get_equivalent_rules(xs: list, A: set, B: set, \n",
    "                        rules: List[Tuple[str, Callable[[object, set, set], bool]]]) -> dict:\n",
    "    \"\"\"\n",
    "    p. 19 table 1,\n",
    "    two sets are considered equal if they have equivalent columns in the state table.\n",
    "    \"\"\"\n",
    "    #rule_states = [get_element_state(x, A, B, rules) for x in xs]\n",
    "    rule_states = {r: [] for r, _ in rules}\n",
    "    for x in xs:\n",
    "        xstate = get_element_state(x, A, B, rules)\n",
    "        for rule_name, xresult in xstate.items():\n",
    "            rule_states[rule_name].append(xresult)\n",
    "\n",
    "    equivalent_rules = {}\n",
    "    for rule_name, result1 in rule_states.copy().items():        \n",
    "        for rname, result2 in rule_states.items():\n",
    "            if result2 == result1:\n",
    "                if rule_name not in equivalent_rules:\n",
    "                    equivalent_rules[rule_name] = []\n",
    "                equivalent_rules[rule_name].append(rname)\n",
    "                \n",
    "    print(\"Equivalent rules\")\n",
    "    pprint.pprint(equivalent_rules)\n",
    "    return equivalent_rules"
   ]
  },
  {
   "cell_type": "code",
   "execution_count": 8,
   "id": "d00d41a9-d1b2-4c01-ab50-2b80560bf4c0",
   "metadata": {},
   "outputs": [
    {
     "name": "stdout",
     "output_type": "stream",
     "text": [
      "Equivalent rules\n",
      "{'x in A': ['x in A'],\n",
      " 'x in A ∩ B': ['x in A ∩ B'],\n",
      " 'x in A ∪ B': ['x in A ∪ B'],\n",
      " 'x in B': ['x in B'],\n",
      " 'x in ~(A ∪ B)': ['x in ~(A ∪ B)', 'x in ~A ∩ ~B'],\n",
      " 'x in ~A': ['x in ~A'],\n",
      " 'x in ~A ∩ ~B': ['x in ~(A ∪ B)', 'x in ~A ∩ ~B'],\n",
      " 'x in ~B': ['x in ~B']}\n"
     ]
    }
   ],
   "source": [
    "A = set(list(range(0, 6)))\n",
    "B = set(list(range(4, 11)))\n",
    "U = set(list(range(20)))\n",
    "x1 = 5\n",
    "x2 = 2\n",
    "x3 = 8\n",
    "x4 = 13\n",
    "xs = [x1, x2, x3, x4]\n",
    "\n",
    "rules = [\n",
    "    (\"x in A\", lambda x, As, Bs: x in As),\n",
    "    (\"x in B\", lambda x, As, Bs: x in Bs),\n",
    "    (\"x in A ∪ B\", lambda x, As, Bs: x in (As.union(Bs))),\n",
    "    (\"x in A ∩ B\", lambda x, As, Bs: x in (As.intersection(Bs))),\n",
    "    (\"x in ~A\", lambda x, As, Bs: x in (U.difference(As))),\n",
    "    (\"x in ~B\", lambda x, As, Bs: x in (U.difference(Bs))),\n",
    "    (\"x in ~(A ∪ B)\", lambda x, As, Bs: x in (U.difference(As.union(Bs)))),\n",
    "    (\"x in ~A ∩ ~B\", lambda x, As, Bs: x in (U.difference(As).intersection(U.difference(Bs)))),\n",
    "]\n",
    "eqs = get_equivalent_rules(xs, A, B, rules)"
   ]
  },
  {
   "cell_type": "markdown",
   "id": "51c5a299-b31e-486f-85ec-e2749bfba59b",
   "metadata": {},
   "source": [
    "### Relations"
   ]
  },
  {
   "cell_type": "markdown",
   "id": "6259caff-5ad0-44a6-a8df-5ead30581438",
   "metadata": {},
   "source": [
    "A set **A** is defined as:\n",
    "\n",
    "- **singleton** if $A = \\{ x \\} $ where $x$ is a member of a well defined set.\n",
    "- **unordered pair** if $A = \\{ x, y \\}$ where $x$ and $y$ are members of a well defined set and $A$ has exactly two elements.\n",
    "- **ordered pair** if $A = \\{\\{x\\}, \\{x, y\\} \\}$ where $x$ and $y$ are members of a well defined set and $A$ has exactly two elements.\n",
    "\n",
    "For an ordered pair $\\langle x,y \\rangle$ the following equality relation can be defined:\n",
    "- An ordered pair $\\langle x,y \\rangle$ is equal to an ordered pair $\\langle a,b \\rangle$, if and only if $x = a$ and $y = b$."
   ]
  },
  {
   "cell_type": "code",
   "execution_count": 9,
   "id": "4365d134-7f94-46a4-a7b4-055342a322aa",
   "metadata": {},
   "outputs": [],
   "source": [
    "class OrderedPair:\n",
    "    def __init__(self, a, b):\n",
    "        \"\"\n",
    "        self.paired = a\n",
    "        self.second = frozenset([a, b])\n",
    "        self.pairing = b\n",
    "        \n",
    "    def to_set(self): return frozenset([self.paired, self.second])\n",
    "\n",
    "    def __eq__(self, other):\n",
    "        if not isinstance(other, OrderedPair):\n",
    "            return False\n",
    "        return self.paired == other.paired and self.second == other.second\n",
    "    \n",
    "    def __str__(self):\n",
    "        return str(self.to_set())\n",
    "    \n",
    "    def __hash__(self):\n",
    "        return hash(self.to_set())\n",
    "\n",
    "\n",
    "def cartesian_product(A: set, B: set):\n",
    "    \"\"\"\n",
    "    cartesian product is defined as $A x B = \\{ \\langle a,b \\rangle a \\in A, b \\in B \\}$\n",
    "    \"\"\"\n",
    "    product = set([])\n",
    "    for a in A:\n",
    "        for b in B:\n",
    "            product.add(OrderedPair(a, b))\n",
    "    #\n",
    "    return product"
   ]
  },
  {
   "cell_type": "code",
   "execution_count": 10,
   "id": "32c67709-d9dc-450c-9af0-67db79698164",
   "metadata": {},
   "outputs": [],
   "source": [
    "def test_cartesian_product():\n",
    "    \"\"\n",
    "    A = set(range(0, 5))\n",
    "    B = set(range(3, 8))\n",
    "    AandB = []\n",
    "    for a in A:\n",
    "        for b in B:\n",
    "            AandB.append((a, b))\n",
    "    AxB = cartesian_product(A, B)\n",
    "    AndB = frozenset([OrderedPair(a,b) for a, b in AandB])\n",
    "    return AxB == AndB"
   ]
  },
  {
   "cell_type": "code",
   "execution_count": 11,
   "id": "62e217d2-16a4-4953-b699-7e5fa7f4710b",
   "metadata": {},
   "outputs": [
    {
     "data": {
      "text/plain": [
       "True"
      ]
     },
     "execution_count": 11,
     "metadata": {},
     "output_type": "execute_result"
    }
   ],
   "source": [
    "test_cartesian_product()"
   ]
  },
  {
   "cell_type": "code",
   "execution_count": 12,
   "id": "4a0895f1-021d-43ae-821e-75acf9f3a2af",
   "metadata": {},
   "outputs": [],
   "source": [
    "def relation_R_on_A(A: set):\n",
    "    def R_cond(x, y):\n",
    "        return x in A and y in A and (x % y == 0)\n",
    "    R = set([])\n",
    "    for a in A:\n",
    "        for b in A:\n",
    "            if R_cond(a, b):\n",
    "                pair = OrderedPair(a, b)\n",
    "                R.add(pair)\n",
    "    return R"
   ]
  },
  {
   "cell_type": "code",
   "execution_count": 13,
   "id": "f149ba1f-de0a-40a0-ae17-864c4ce94509",
   "metadata": {},
   "outputs": [
    {
     "data": {
      "text/plain": [
       "True"
      ]
     },
     "execution_count": 13,
     "metadata": {},
     "output_type": "execute_result"
    }
   ],
   "source": [
    "def test_relation_R_on_A():\n",
    "    A = frozenset([2,4,6,8])\n",
    "    AxA = cartesian_product(A, A)\n",
    "    R = relation_R_on_A(A)\n",
    "    return R.issubset(AxA)\n",
    "\n",
    "test_relation_R_on_A()"
   ]
  },
  {
   "cell_type": "code",
   "execution_count": 14,
   "id": "5012ba56-bfe2-4701-9c9b-8a83a8b44219",
   "metadata": {},
   "outputs": [],
   "source": [
    "def relation_domain(relation, A: set):\n",
    "    \"$dom(A) = \\{x \\in A : \\langle x, y \\rangle \\in R\\}$ where $R$ is a relation on $A$\"\n",
    "    return frozenset([r.paired for r in relation(A)])\n",
    "\n",
    "def relation_range(relation, A: set):\n",
    "    \"$ran(A) = \\{y \\in A : \\langle x, y \\rangle \\in R\\}$ where $R$ is a relation on $A$\"\n",
    "    r_range = set()\n",
    "    for r in relation(A):\n",
    "        rs = r.pairing\n",
    "        r_range.add(rs)\n",
    "    return frozenset(r_range)\n",
    "\n",
    "def relation_field(relation, A: set):\n",
    "    \"$ran(A) \\Cup dom(A)\"\n",
    "    domr = set(relation_domain(relation, A))\n",
    "    ranr = relation_range(relation, A)\n",
    "    return frozenset(domr.union(ranr))"
   ]
  },
  {
   "cell_type": "code",
   "execution_count": 15,
   "id": "3156687c-7182-47c2-85b2-8684b1635d77",
   "metadata": {},
   "outputs": [
    {
     "name": "stdout",
     "output_type": "stream",
     "text": [
      "True\n",
      "True\n",
      "True\n",
      "True\n",
      "True\n"
     ]
    },
    {
     "data": {
      "text/plain": [
       "(frozenset({<__main__.OrderedPair at 0x7fc6cc4ccc50>,\n",
       "            <__main__.OrderedPair at 0x7fc6cc4ccc10>,\n",
       "            <__main__.OrderedPair at 0x7fc6cc4ccc90>,\n",
       "            <__main__.OrderedPair at 0x7fc6cc4cccd0>,\n",
       "            <__main__.OrderedPair at 0x7fc6cc4ccd10>}),\n",
       " {'a', 'b', 'c', 'd', 'e'},\n",
       " frozenset({'a', 'c', 'd'}),\n",
       " frozenset({'a', 'b', 'c'}),\n",
       " frozenset({'a', 'b', 'c', 'd'}))"
      ]
     },
     "execution_count": 15,
     "metadata": {},
     "output_type": "execute_result"
    }
   ],
   "source": [
    "def test_domain_range_field():\n",
    "    \"\"\n",
    "    A = set([\"a\", \"b\", \"c\", \"d\", \"e\"])\n",
    "    R = frozenset([\n",
    "        OrderedPair(\"a\", \"a\"),\n",
    "        OrderedPair(\"a\", \"c\"),\n",
    "        OrderedPair(\"c\", \"a\"),\n",
    "        OrderedPair(\"d\", \"b\"),\n",
    "        OrderedPair(\"d\", \"c\")\n",
    "    ])\n",
    "    \n",
    "    def R_fn(arg: set):\n",
    "        return R\n",
    "    domr = relation_domain(relation=R_fn, A=A)\n",
    "    ranr = relation_range(relation=R_fn, A=A)\n",
    "    fldr = relation_field(relation=R_fn, A=A)\n",
    "    print(domr.issubset(A))\n",
    "    print(ranr.issubset(A))\n",
    "    print(fldr.issubset(A))\n",
    "    print(domr.issubset(fldr))\n",
    "    print(ranr.issubset(fldr))\n",
    "    return R, A, domr, ranr, fldr\n",
    "\n",
    "test_domain_range_field()"
   ]
  },
  {
   "cell_type": "code",
   "execution_count": 16,
   "id": "ee0a57ee-f273-47d5-8edd-8e6d40aa3444",
   "metadata": {},
   "outputs": [],
   "source": [
    "def relation_converse(relation, A: set):\n",
    "    \"$con(R) = \\{ \\langle y, x \\rangle : \\langle x, y \\rangle \\in R \\}$ where $R$ is a relation on $A$\"\n",
    "    con_R = set()\n",
    "    for pair in relation(A):\n",
    "        a = pair.paired\n",
    "        b = pair.pairing\n",
    "        con_R.add(OrderedPair(b, a))\n",
    "    return con_R"
   ]
  },
  {
   "cell_type": "code",
   "execution_count": 17,
   "id": "0affd49a-2794-4ecf-8a96-3688a301eecf",
   "metadata": {},
   "outputs": [],
   "source": [
    "def is_composable(R, S, A: set):\n",
    "    \"\"\n",
    "    ran_r = relation_range(R, A)\n",
    "    dom_s = relation_domain(S, A)\n",
    "    return len(ran_r.intersection(dom_s)) > 0\n",
    "\n",
    "def compose(R, S, A: set):\n",
    "    \"\"\"\n",
    "    Let R, and S be two relations on the set A. \n",
    "    Composition of R and S is defined as: \n",
    "    $R \\circ S = \\{ \\langle x, z \\rangle \\exits y \\in A: y \\in ran(R) and y \\in dom(S) \\} $\n",
    "    \"\"\"\n",
    "    if not is_composable(R, S, A):\n",
    "        raise ValueError(\"The relations are not composable\")\n",
    "    comps = set()\n",
    "    for pair_r in R(A):\n",
    "        for pair_s in S(A):\n",
    "            if pair_r.pairing == pair_s.paired:\n",
    "                comps.add(OrderedPair(pair_r.paired, pair_s.pairing))\n",
    "    return comps"
   ]
  },
  {
   "cell_type": "code",
   "execution_count": 18,
   "id": "0acc706c-ac6e-4848-8d1b-a6641181d724",
   "metadata": {},
   "outputs": [
    {
     "name": "stdout",
     "output_type": "stream",
     "text": [
      "['frozenset({1, frozenset({1, 4})})', 'frozenset({2, frozenset({2, 6})})', 'frozenset({0, frozenset({0, 2})})', 'frozenset({frozenset({8, 3}), 3})']\n",
      "['frozenset({1, frozenset({1, 4})})', 'frozenset({2, frozenset({2, 6})})', 'frozenset({0, frozenset({0, 2})})', 'frozenset({frozenset({8, 3}), 3})']\n",
      "True\n"
     ]
    }
   ],
   "source": [
    "elements = list(range(10))\n",
    "A = set(elements)\n",
    "\n",
    "# x + 1\n",
    "R = frozenset([OrderedPair(x, x+1) for x in elements\n",
    "               if x+1 in elements])\n",
    "Rf = lambda _: R\n",
    "\n",
    "# 2x\n",
    "S = frozenset([OrderedPair(x, 2*x) for x in elements\n",
    "               if 2*x in elements])\n",
    "Sf = lambda _: S\n",
    "\n",
    "RcircS = frozenset([OrderedPair(x, 2 * (x + 1)) for x in elements\n",
    "                    if 2 * (x + 1) in elements])\n",
    "\n",
    "print([str(s) for s in compose(Rf, Sf, A)])\n",
    "print([str(s) for s in RcircS])\n",
    "print(compose(Rf, Sf, A) == RcircS)"
   ]
  },
  {
   "cell_type": "markdown",
   "id": "3ccb97ac-ba7e-405a-ace9-9a2906899e93",
   "metadata": {},
   "source": [
    "1. Relation R is **reflexive** if $\\langle x, x \\rangle \\in R$ for all $x \\in A$.\n",
    "2. Relation R is **antisymmetric** if for all $x, y \\in A$,\n",
    "$\\langle x, y\\rangle \\in R$ and $\\langle y, x \\rangle \\in R$ implies $x = y$.\n",
    "3. Relation R is **transitive** if for all $x, y, z \\in A$, $\\langle x, y \\rangle \\in R$ and \n",
    "$\\langle y, z \\rangle \\in R$ implies $\\langle x, z\\rangle \\in R$.\n",
    "4. Relation R is a **partial order** on A, if R is reflexive, antisymmetric, and transitive.\n",
    "Sometimes we will call a partial order on A just an order on A, or an ordering\n",
    "of A.\n",
    "5. Relation R is a **linear order** on A if R is a partial order, and \n",
    "xRy or yRx for all $x, y \\in A$, i.e. if any two elements of A are comparable with respect to R.\n",
    "6. Relation R is **symmetric** if $R = conv(R)$, that is the relation is equal to its converse.\n",
    "7. Relation R is an **equivalence relation** if it is reflexive, symmetric, and transitive.\n",
    "8. Let A be a non-empty set. A family P of non-empty subsets of A is called a partition of A."
   ]
  },
  {
   "cell_type": "code",
   "execution_count": 19,
   "id": "5f4380ad-f518-4141-a773-f991ffd1a73e",
   "metadata": {},
   "outputs": [],
   "source": [
    "def is_partition(P: set, A: set):\n",
    "    \"\"\"\n",
    "    There are two conditions for P to be a partitioning of A\n",
    "    1. For all $S, T \\in P$ we have $S \\cap T = \\emptyset$\n",
    "    2. The union of all elements of P is A.\n",
    "    \"\"\"\n",
    "    p_union = set()\n",
    "    for p in P:\n",
    "        p_union = p_union.union(p)\n",
    "    c1 = p_union == A\n",
    "    conds = []\n",
    "    for s in P:\n",
    "        for t in P:\n",
    "            if s != t:\n",
    "                conds.append(len(s.intersection(t)) == 0)\n",
    "    c2 = all(conds)\n",
    "    return c1 and c2"
   ]
  },
  {
   "cell_type": "code",
   "execution_count": 20,
   "id": "59da656f-df06-4acb-bcb0-c283dfa49931",
   "metadata": {},
   "outputs": [
    {
     "name": "stdout",
     "output_type": "stream",
     "text": [
      "True\n",
      "False\n",
      "False\n"
     ]
    }
   ],
   "source": [
    "A = set(range(10))\n",
    "P = set([frozenset([0,1,2,3]), frozenset([4,5,6,7]), frozenset([8,9])])\n",
    "PFalse = set([frozenset([0,1,2,3]), frozenset([4,5,6,7]), frozenset([8])])\n",
    "\n",
    "PFalse2 = set([frozenset([0,1,2,3]), frozenset([3,4,5,6,7]), frozenset([8])])\n",
    "print(is_partition(P, A))\n",
    "print(is_partition(PFalse, A))\n",
    "print(is_partition(PFalse2, A))"
   ]
  },
  {
   "cell_type": "code",
   "execution_count": 30,
   "id": "74f2251c-f1b5-4be2-b266-aedada1998fd",
   "metadata": {},
   "outputs": [],
   "source": [
    "def is_function(f, A: set, B: set) -> bool:\n",
    "    \"\"\"\n",
    "    A function is an ordered triple $f, A, B$ such that: \n",
    "        1. A and B are sets, and f ⊆ A × B,\n",
    "        2. For every x ∈ A there is some y ∈ B such that <x, y> ∈ f\n",
    "        3. If $\\langle x, y \\rangle \\in f$ \n",
    "            and $\\langle x, z \\rangle \\in f$,\n",
    "            then y = z; in other words, the assignment is\n",
    "unique in the sense that an $x \\in A$ is assigned at most one element of B.\n",
    "    \"\"\"\n",
    "    AxB = cartesian_product(A, B)\n",
    "    f_pairs = set()\n",
    "    for a in A:\n",
    "        f_a = f(a)\n",
    "        \n",
    "        # for testing the first condition\n",
    "        f_pairs.add(OrderedPair(a, f_a))\n",
    "        if f_a not in B:\n",
    "            # due to second condition\n",
    "            return False\n",
    "        #\n",
    "    #\n",
    "    # testing first condition\n",
    "    f_pairs_2 = [fp for fp in f_pairs]\n",
    "    for pair in f_pairs:\n",
    "        x_zs = [p for p in f_pairs_2 if p.paired == pair.paired]\n",
    "        for x_z in x_zs:\n",
    "            if pair.pairing != x_z.pairing:\n",
    "                return False\n",
    "    # testing first condition\n",
    "    return f_pairs.issubset(AxB)"
   ]
  },
  {
   "cell_type": "code",
   "execution_count": 75,
   "id": "e88b6e29-04ab-4bed-a895-08a832674d2a",
   "metadata": {},
   "outputs": [
    {
     "name": "stdout",
     "output_type": "stream",
     "text": [
      "set A:  {0, 1, 2, -1}\n",
      "set B:  {0, 1, 4}\n",
      "function: f(a) = a ** 2\n",
      "is f a valid function:  True\n",
      "-------------------------\n",
      "set A:  {16, 9, 4}\n",
      "set B:  {2, -4, -3}\n",
      "function: f(a^2) = a\n",
      "is f a valid function:  False\n"
     ]
    }
   ],
   "source": [
    "import random\n",
    "\n",
    "def test_is_function():\n",
    "    \"\"\n",
    "    A = set([-1, 0, 1, 2])\n",
    "    def truef(a):\n",
    "        return a ** 2\n",
    "    B = set([truef(a) for a in A])\n",
    "    print(\"set A: \", A)\n",
    "    print(\"set B: \", B)\n",
    "    print(\"function: f(a) = a ** 2\")\n",
    "    is_true_f = is_function(truef, A, B)\n",
    "    print(\"is f a valid function: \", is_true_f)\n",
    "    print(\"-------------------------\")\n",
    "    \n",
    "    def falsef(a):\n",
    "        \"x = y^2\"\n",
    "        if a == 4:\n",
    "            return random.choice([-2, 2])\n",
    "        if a == 9:\n",
    "            return random.choice([-3, 3])\n",
    "        if a == 16:\n",
    "            return random.choice([-4, 4])\n",
    "    \n",
    "    A = set([4, 9, 16])\n",
    "    \n",
    "    print(\"set A: \", A)\n",
    "    random.seed(42)\n",
    "    B = set([falsef(a) for a in A])\n",
    "    is_false_f = is_function(falsef, A, B)\n",
    "    print(\"set B: \", B)\n",
    "    print(\"function: f(a^2) = a\")\n",
    "    print(\"is f a valid function: \", is_false_f)\n",
    "    \n",
    "test_is_function()"
   ]
  },
  {
   "cell_type": "code",
   "execution_count": null,
   "id": "41fff47b-44f0-4f9f-8a0f-cc398c802b56",
   "metadata": {},
   "outputs": [],
   "source": []
  },
  {
   "cell_type": "code",
   "execution_count": null,
   "id": "21539439-1340-43df-b7b3-b85aeb6f92d8",
   "metadata": {},
   "outputs": [],
   "source": []
  }
 ],
 "metadata": {
  "kernelspec": {
   "display_name": "Python 3 (ipykernel)",
   "language": "python",
   "name": "python3"
  },
  "language_info": {
   "codemirror_mode": {
    "name": "ipython",
    "version": 3
   },
   "file_extension": ".py",
   "mimetype": "text/x-python",
   "name": "python",
   "nbconvert_exporter": "python",
   "pygments_lexer": "ipython3",
   "version": "3.7.13"
  }
 },
 "nbformat": 4,
 "nbformat_minor": 5
}
